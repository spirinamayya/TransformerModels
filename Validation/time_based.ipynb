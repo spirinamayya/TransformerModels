{
 "cells": [
  {
   "cell_type": "code",
   "execution_count": 26,
   "metadata": {},
   "outputs": [],
   "source": [
    "import pandas as pd\n",
    "from rectools import Columns\n",
    "import tqdm\n",
    "import torch\n",
    "import os\n",
    "from lightning_fabric import seed_everything"
   ]
  },
  {
   "cell_type": "code",
   "execution_count": 25,
   "metadata": {},
   "outputs": [],
   "source": [
    "from rectools.model_selection import TimeRangeSplitter\n",
    "from rectools.dataset import Interactions"
   ]
  },
  {
   "cell_type": "markdown",
   "metadata": {},
   "source": [
    "## Dataset"
   ]
  },
  {
   "cell_type": "markdown",
   "metadata": {},
   "source": [
    "### MovieLens 1M"
   ]
  },
  {
   "cell_type": "code",
   "execution_count": 17,
   "metadata": {},
   "outputs": [],
   "source": [
    "splitter = TimeRangeSplitter(\n",
    "    test_size=\"7D\",\n",
    "    n_splits=1,\n",
    "    filter_cold_users=True,\n",
    "    filter_cold_items=True,\n",
    "    filter_already_seen=True,\n",
    ")"
   ]
  },
  {
   "cell_type": "code",
   "execution_count": 14,
   "metadata": {},
   "outputs": [],
   "source": [
    "ml1m = pd.read_csv(\n",
    "        \"/Users/mayyaspirina/Desktop/vkrgrid/repo/prepare_vkr/Datasets/ratings.dat\",\n",
    "        sep=\"::\",\n",
    "        names=[\"userId\", \"movieId\", \"rating\", \"timestamp\"],\n",
    "        engine=\"python\",\n",
    "    )\n",
    "\n",
    "ml1m = ml1m[ml1m[\"rating\"] >= 1].drop(columns=[\"rating\"])\n",
    "ml1m.rename(columns={\n",
    "        \"userId\": Columns.User,\n",
    "        \"movieId\": Columns.Item,\n",
    "        \"timestamp\": Columns.Datetime,\n",
    "    },\n",
    "    inplace=True,\n",
    ")\n",
    "ml1m[Columns.Datetime] = pd.to_datetime(ml1m[Columns.Datetime], unit=\"s\")\n",
    "ml1m[Columns.Weight] = 1"
   ]
  },
  {
   "cell_type": "code",
   "execution_count": 23,
   "metadata": {},
   "outputs": [],
   "source": [
    "split_iterator = splitter.split(Interactions(ml1m))\n",
    "train_ids, test_ids, _ = next(iter(split_iterator))\n",
    "train = ml1m.iloc[train_ids]\n",
    "test = ml1m.iloc[test_ids]"
   ]
  },
  {
   "cell_type": "markdown",
   "metadata": {},
   "source": [
    "# Modification comparison"
   ]
  },
  {
   "cell_type": "markdown",
   "metadata": {},
   "source": [
    "## Set seed"
   ]
  },
  {
   "cell_type": "code",
   "execution_count": null,
   "metadata": {},
   "outputs": [],
   "source": [
    "torch.use_deterministic_algorithms(True)\n",
    "seed_everything(42, workers=True)\n",
    "\n",
    "# Enable deterministic behaviour with CUDA >= 10.2\n",
    "os.environ[\"CUBLAS_WORKSPACE_CONFIG\"] = \":4096:8\""
   ]
  },
  {
   "cell_type": "markdown",
   "metadata": {},
   "source": [
    "## Determine model parameters\n",
    "\n",
    "Here are options that should be chosen for each modification to work:\n",
    "\n",
    "### Training objective\n",
    "* Shifted sequence: choose model `SASRecModel`\n",
    "* MLM: choose model `BERT4RecModel`\n",
    "* All action: choose model `BERT4RecModel`\n",
    "    * data_preparator_type: modifications.objectives.all_action.AllActionDataPreparator\n",
    "    * lightning_module_type: modifications.objectives.all_action.AllActionLightningModule\n",
    "    * backbone_type: modifications.objectives.all_action.AllActionTransformerTorchBackbone\n",
    "* Dense all action: choose model `SASRecModel`\n",
    "    * data_preparator_type: modifications.objectives.dense_all_action.DenseAllActionDataPreparator\n",
    "\n",
    "### Transformer layers\n",
    "* SASRec: rectools.models.nn.transformers.sasrec.SASRecTransformerLayers\n",
    "* BERT4Rec: rectools.models.nn.transformers.net_blocks.PreLNTransformerLayers\n",
    "* ALBERT: src.models.transformers.transformer_layers.albert.AlbertLayers\n"
   ]
  },
  {
   "cell_type": "code",
   "execution_count": null,
   "metadata": {},
   "outputs": [],
   "source": []
  }
 ],
 "metadata": {
  "kernelspec": {
   "display_name": "benchmark_kernel",
   "language": "python",
   "name": "benchmark_kernel"
  },
  "language_info": {
   "codemirror_mode": {
    "name": "ipython",
    "version": 3
   },
   "file_extension": ".py",
   "mimetype": "text/x-python",
   "name": "python",
   "nbconvert_exporter": "python",
   "pygments_lexer": "ipython3",
   "version": "3.10.13"
  }
 },
 "nbformat": 4,
 "nbformat_minor": 2
}
